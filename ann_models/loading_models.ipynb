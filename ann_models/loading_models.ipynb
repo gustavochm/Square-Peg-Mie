{
 "cells": [
  {
   "cell_type": "markdown",
   "metadata": {},
   "source": [
    "# ANN models load and use\n",
    "\n",
    "This notebook exemplifies how to load the trained ANN models and how to use them. These models use the `python_helpers` library provided in this repo.\n",
    "These functions were tested using the following packages:\n",
    "- `jax==0.4.4`\n",
    "- `flax==0.6.6`\n",
    "- `numpy==1.24.2`\n"
   ]
  },
  {
   "cell_type": "code",
   "execution_count": 1,
   "metadata": {},
   "outputs": [],
   "source": [
    "import os\n",
    "import sys\n",
    "import numpy as np\n",
    "import pandas as pd\n",
    "\n",
    "from jax import numpy as jnp\n",
    "from jax.config import config\n",
    "from flax.training import checkpoints\n",
    "import flax.linen as nn\n",
    "\n",
    "import nest_asyncio\n",
    "nest_asyncio.apply()\n",
    "\n",
    "config.update(\"jax_enable_x64\", True)\n",
    "type_np = np.float64\n",
    "type_jax = jnp.float64\n",
    "\n",
    "sys.path.append(\"../\")\n",
    "from python_helpers import helper_get_alpha\n",
    "\n",
    "from python_helpers.feanneos import HelmholtzModel, HelmholtzModel_Tlinear\n",
    "from python_helpers.feanneos import helper_solver_funs, helper_jitted_funs\n",
    "\n",
    "from python_helpers.transport_properties import TransportModel_PVT_Tinv, TransportModelResidual_PVT_Tinv, TransportModel_entropy\n",
    "from python_helpers.transport_properties import density_diffusivity_mie6_dilute, viscosity_mie6_dilute, thermal_conductivity_mie6_dilute\n",
    "from python_helpers.transport_properties import diffusivity_scaling, viscosity_scaling, thermal_conductivity_scaling\n",
    "from python_helpers import linear_activation"
   ]
  },
  {
   "cell_type": "markdown",
   "metadata": {},
   "source": [
    "## Loading and using FE-ANN and FE-ANN(s) EoSs\n",
    "\n",
    "The FE-ANN and FE-ANN(s) EoS use the provided `HelmholtzModel` function. This function is required to set up the ANN of these EoS. \n",
    "The procedure to load any of the trained models is the following:\n",
    "1. Load the checkpoint using the `checkpoints.restore_checkpoint` function.\n",
    "1. Read the architecture of the trained model from the `'features'` attribute.\n",
    "1. Create the Helmholtz model using the loaded features.\n",
    "1. Load the trained parameters from the `'params'` attribute of the checkpoint\n"
   ]
  },
  {
   "cell_type": "code",
   "execution_count": 2,
   "metadata": {},
   "outputs": [],
   "source": [
    "# Loading FE-ANN EoS\n",
    "main_ckpt_folders = 'feann_eos'\n",
    "name_type = 'models_Tinv_factor0.05_seed1'\n",
    "ckpt_folder = os.path.join(main_ckpt_folders, name_type)\n",
    "prefix_params = 'FE-ANN-EoS-params_'\n",
    "# reading ANN parameters\n",
    "ckpt_Tinv = checkpoints.restore_checkpoint(ckpt_dir=ckpt_folder, target=None, prefix=prefix_params)\n",
    "# Creating Helholmoltz model\n",
    "helmholtz_features = list(ckpt_Tinv['features'].values())\n",
    "helmholtz_model = HelmholtzModel(features=helmholtz_features)\n",
    "helmholtz_params = {'params': ckpt_Tinv['params']}\n",
    "# Compile necessary functions for phase equilibria and thermodynamic properties computation\n",
    "fun_dic_feanneos = helper_jitted_funs(helmholtz_model, helmholtz_params)\n",
    "\n",
    "# Loading FE-ANN(s) EoS\n",
    "main_ckpt_folders = 'feanns_eos'\n",
    "name_type = 'models_Tinv_factor0.01_seed17'\n",
    "ckpt_folder = os.path.join(main_ckpt_folders, name_type)\n",
    "prefix_params = 'FE-ANN-EoS-params_'\n",
    "# reading ANN parameters\n",
    "ckpt_Tinv = checkpoints.restore_checkpoint(ckpt_dir=ckpt_folder, target=None, prefix=prefix_params)\n",
    "# Creating Helholmoltz model\n",
    "helmholtz_features = list(ckpt_Tinv['features'].values())\n",
    "helmholtz_model = HelmholtzModel(features=helmholtz_features)\n",
    "helmholtz_params = {'params': ckpt_Tinv['params']}\n",
    "# Compile necessary functions for phase equilibria and thermodynamic properties computation\n",
    "fun_dic_feannseos = helper_jitted_funs(helmholtz_model, helmholtz_params)"
   ]
  },
  {
   "cell_type": "markdown",
   "metadata": {},
   "source": [
    "The `HelmholtzModel` object relies on `flax`. The EoS can be used as a flax ANN, which requires you to supply the parameters manually. For convenience, the `helper_jitted_funs` compiles the parameters into the model and provides useful functions to compute phase equilibria and thermophysical properties. These functions use `(alpha, rho, T)` as inputs. \n",
    "In this notebook, `fun_dic_feanneos` refers to compiled functions of the FE-ANN EoS, and `fun_dic_feannseos` refers to compiled functions of the FE-ANN(s) EoS.\n",
    "\n",
    "The list of available functions is shown below."
   ]
  },
  {
   "cell_type": "code",
   "execution_count": 3,
   "metadata": {},
   "outputs": [
    {
     "name": "stdout",
     "output_type": "stream",
     "text": [
      "dict_keys(['helmholtz_fun', 'dhelmholtz_drho_fun', 'd2helmholtz_drho2_dT_fun', 'd2helmholtz_drho2_fun', 'd2helmholtz_fun', 'pressure_fun', 'dpressure_drho_fun', 'dpressure_drho_aux_fun', 'd2pressure_drho2_fun', 'pressure_and_chempot_fun', 'chemical_potential_residual_fun', 'entropy_residual_fun', 'internal_energy_residual_fun', 'enthalpy_residual_fun', 'gibbs_residual_fun', 'cv_residual_fun', 'cp_residual_fun', 'thermal_expansion_coeff_fun', 'thermal_pressure_coeff_fun', 'isothermal_compressibility_fun', 'joule_thomson_fun', 'thermophysical_properties_fun', 'second_virial_coefficient_fun', 'third_virial_coefficient_fun', 'virial_coefficients_fun'])\n"
     ]
    }
   ],
   "source": [
    "print(fun_dic_feannseos.keys())"
   ]
  },
  {
   "cell_type": "code",
   "execution_count": 4,
   "metadata": {},
   "outputs": [
    {
     "name": "stdout",
     "output_type": "stream",
     "text": [
      "dict_keys(['helmholtz_fun', 'dhelmholtz_drho_fun', 'd2helmholtz_drho2_dT_fun', 'd2helmholtz_drho2_fun', 'd2helmholtz_fun', 'pressure_fun', 'dpressure_drho_fun', 'dpressure_drho_aux_fun', 'd2pressure_drho2_fun', 'pressure_and_chempot_fun', 'chemical_potential_residual_fun', 'entropy_residual_fun', 'internal_energy_residual_fun', 'enthalpy_residual_fun', 'gibbs_residual_fun', 'cv_residual_fun', 'cp_residual_fun', 'thermal_expansion_coeff_fun', 'thermal_pressure_coeff_fun', 'isothermal_compressibility_fun', 'joule_thomson_fun', 'thermophysical_properties_fun', 'second_virial_coefficient_fun', 'third_virial_coefficient_fun', 'virial_coefficients_fun'])\n"
     ]
    }
   ],
   "source": [
    "print(fun_dic_feannseos.keys())"
   ]
  },
  {
   "cell_type": "markdown",
   "metadata": {},
   "source": [
    "Here is an example of how to use these functions."
   ]
  },
  {
   "cell_type": "code",
   "execution_count": 5,
   "metadata": {},
   "outputs": [
    {
     "name": "stdout",
     "output_type": "stream",
     "text": [
      "Pressure FE-ANN EoS:  [0.17840788 0.33422359 0.49710743 0.72013464 1.10269866]\n",
      "Pressure FE-ANN(s) EoS:  [0.17777895 0.33012058 0.49323471 0.7207129  1.10336088]\n"
     ]
    }
   ],
   "source": [
    "# computing the alpha vdw value of the LJ particle\n",
    "lambda_r = 12\n",
    "lambda_a = 6 \n",
    "alpha_vdw = helper_get_alpha(lambda_r, lambda_a)\n",
    "\n",
    "# defining the state points\n",
    "rho = np.array([0.1, 0.2, 0.3, 0.4, 0.5])\n",
    "T = 2. * np.ones_like(rho)\n",
    "alpha = alpha_vdw * np.ones_like(rho)\n",
    "\n",
    "# evaluating the FE-ANN EoS\n",
    "print('Pressure FE-ANN EoS: ',fun_dic_feanneos['pressure_fun'](alpha, rho, T))\n",
    "\n",
    "# evaluating the FE-ANN(s) EoS\n",
    "print('Pressure FE-ANN(s) EoS: ',fun_dic_feannseos['pressure_fun'](alpha, rho, T))\n"
   ]
  },
  {
   "cell_type": "markdown",
   "metadata": {},
   "source": [
    "# Loading and using Transport Property models\n",
    "\n",
    "The transport property models rely on the `TransportModel_PVT_Tinv`, `TransportModelResidual_PVT_Tinv` and `TransportModel_entropy` functions. The functions vary on the inputs/outputs.\n",
    "- `TransportModel_PVT_Tinv` uses `(alpha, rho, T)` as inputs and directly returns the transport property (in the chosen scale)\n",
    "- `TransportModelResidual_PVT_Tinv` use `(alpha, rho, T)` as inputs and directly returns the \"residual\" transport property (in the chosen scale). The dilute gas contribution can be analytically considered using the `density_diffusivity_mie6_dilute`, `viscosity_mie6_dilute`, or `thermal_conductivity_mie6_dilute` functions.\n",
    "- `TransportModel_entropy` uses `(alpha, Sres)` as inputs and directly returns the reduced transport property. The transport property can be converted from a reduced scale to a normal scale using the `diffusivity_scaling`, `viscosity_scaling`, or `thermal_conductivity_scaling` functions.\n"
   ]
  },
  {
   "cell_type": "code",
   "execution_count": 6,
   "metadata": {},
   "outputs": [],
   "source": [
    "# This is needed for the output layers\n",
    "activation_dicts = {'linear': linear_activation, 'softplus': nn.softplus}"
   ]
  },
  {
   "cell_type": "code",
   "execution_count": 7,
   "metadata": {},
   "outputs": [
    {
     "name": "stdout",
     "output_type": "stream",
     "text": [
      "Self-diffusivity model:  [2.70960234 1.32164389 0.84563864 0.59449846 0.4310642 ]\n",
      "Self-diffusivity residual model:  [2.71416569 1.31620741 0.84071757 0.5915829  0.43041715]\n",
      "Diff entropy model:  [2.90873235 1.33940173 0.83685504 0.58941387 0.41000833]\n"
     ]
    },
    {
     "name": "stderr",
     "output_type": "stream",
     "text": [
      "2025-03-14 15:22:35.749195: E external/org_tensorflow/tensorflow/compiler/xla/python/pjit.cc:606] fastpath_data is none\n"
     ]
    }
   ],
   "source": [
    "########################### \n",
    "# Self-diffusivity models #\n",
    "###########################\n",
    "\n",
    "folder_diff = 'selfdiff_models'\n",
    "hidden_layers = 2\n",
    "neurons = 30\n",
    "\n",
    "# rhodiff model\n",
    "prefix = 'rhodiff-rho-Tinv-penalty'\n",
    "seed = 1\n",
    "features = hidden_layers * [neurons]\n",
    "activation = 'softplus'\n",
    "params_prefix = f'{prefix}-seed{seed}-params_'\n",
    "state_restored = checkpoints.restore_checkpoint(ckpt_dir=folder_diff, target=None, prefix=params_prefix)\n",
    "params_rhodiff = {'params': state_restored['params']}\n",
    "rhodiff_model = TransportModel_PVT_Tinv(features=features, output_activation=activation_dicts[activation])\n",
    "\n",
    "# Residual rhodiff model\n",
    "prefix = 'rhodiff-rho-Tinv-residual-penalty'\n",
    "seed = 0\n",
    "features = hidden_layers * [neurons]\n",
    "activation = 'linear'\n",
    "params_prefix = f'{prefix}-seed{seed}-params_'\n",
    "state_restored = checkpoints.restore_checkpoint(ckpt_dir=folder_diff, target=None, prefix=params_prefix)\n",
    "params_rhodiff_res = {'params': state_restored['params']}\n",
    "rhodiff_res_model = TransportModelResidual_PVT_Tinv(features=features, output_activation=activation_dicts[activation])\n",
    "\n",
    "# Diff entropy scaling model\n",
    "prefix = 'diff-entropy-penalty'\n",
    "seed = 1\n",
    "features = hidden_layers * [neurons]\n",
    "activation = 'softplus'\n",
    "params_prefix = f'{prefix}-seed{seed}-params_'\n",
    "state_restored = checkpoints.restore_checkpoint(ckpt_dir=folder_diff, target=None, prefix=params_prefix)\n",
    "params_diff_entropy = {'params': state_restored['params']}\n",
    "diff_entropy_model = TransportModel_entropy(features=features, output_activation=activation_dicts[activation])\n",
    "\n",
    "################################\n",
    "# Testing the different models #\n",
    "################################\n",
    "\n",
    "lambda_r = 12\n",
    "lambda_a = 6 \n",
    "alpha_vdw = helper_get_alpha(lambda_r, lambda_a)\n",
    "\n",
    "# defining the state points\n",
    "rho = np.array([0.1, 0.2, 0.3, 0.4, 0.5])\n",
    "T = 2. * np.ones_like(rho)\n",
    "alpha = alpha_vdw * np.ones_like(rho)\n",
    "Sres = fun_dic_feanneos['entropy_residual_fun'](alpha, rho, T)\n",
    "\n",
    "# rhodiff model\n",
    "diff_result = rhodiff_model.apply(params_rhodiff, alpha, rho, T) / rho\n",
    "\n",
    "# rhodiff residual model\n",
    "rhodiff_res_result = rhodiff_res_model.apply(params_rhodiff_res, lambda_r*np.ones_like(rho), rho, T)\n",
    "rhodiff_dilute = density_diffusivity_mie6_dilute(lambda_r, T)\n",
    "diff_res_result = (rhodiff_res_result + rhodiff_dilute) / rho\n",
    "\n",
    "# diff entropy model\n",
    "diff_entropy_result = diff_entropy_model.apply(params_diff_entropy, alpha, Sres)\n",
    "diff_entropy_result = diffusivity_scaling(rho, T, diff_entropy_result, unscale=True)\n",
    "# print('Self-diffusivity residual model: ', rhodiff_res_model.apply(params_rhodiff_res, alpha, rho, T) + )\n",
    "\n",
    "print('Self-diffusivity model: ', diff_result)\n",
    "print('Self-diffusivity residual model: ', diff_res_result)\n",
    "print('Diff entropy model: ', diff_entropy_result)"
   ]
  },
  {
   "cell_type": "code",
   "execution_count": 8,
   "metadata": {},
   "outputs": [
    {
     "name": "stdout",
     "output_type": "stream",
     "text": [
      "Shear viscosity model:  [0.24435199 0.29175086 0.36290351 0.46773517 0.62393206]\n",
      "Shear viscosity residual model:  [0.2479837  0.29571055 0.36418936 0.46838631 0.62687355]\n",
      "Viscosity entropy model:  [0.25300686 0.28888959 0.35182701 0.46427662 0.62347342]\n"
     ]
    }
   ],
   "source": [
    "########################## \n",
    "# Shear viscosity models #\n",
    "##########################\n",
    "\n",
    "folder_visc = 'visc_models'\n",
    "hidden_layers = 2\n",
    "neurons = 30\n",
    "\n",
    "# Residual logvisc model\n",
    "prefix = 'logvisc-rho-Tinv-residual-penalty'\n",
    "seed = 42\n",
    "features = hidden_layers * [neurons]\n",
    "activation = 'linear'\n",
    "params_prefix = f'{prefix}-seed{seed}-params_'\n",
    "state_restored = checkpoints.restore_checkpoint(ckpt_dir=folder_visc, target=None, prefix=params_prefix)\n",
    "params_logvisc_res = {'params': state_restored['params']}\n",
    "logvisc_res_model = TransportModelResidual_PVT_Tinv(features=features, output_activation=activation_dicts[activation])\n",
    "\n",
    "# Residual logvisc model\n",
    "prefix = 'logvisc-rho-Tinv-penalty'\n",
    "seed = 0\n",
    "features = hidden_layers * [neurons]\n",
    "activation = 'linear'\n",
    "params_prefix = f'{prefix}-seed{seed}-params_'\n",
    "state_restored = checkpoints.restore_checkpoint(ckpt_dir=folder_visc, target=None, prefix=params_prefix)\n",
    "params_logvisc = {'params': state_restored['params']}\n",
    "logvisc_model = TransportModel_PVT_Tinv(features=features, output_activation=activation_dicts[activation])\n",
    "\n",
    "# visc entropy scaling\n",
    "prefix = 'visc-entropy-penalty'\n",
    "seed = 0\n",
    "features = hidden_layers * [neurons]\n",
    "activation = 'softplus'\n",
    "params_prefix = f'{prefix}-seed{seed}-params_'\n",
    "state_restored = checkpoints.restore_checkpoint(ckpt_dir=folder_visc, target=None, prefix=params_prefix)\n",
    "params_visc_entropy = {'params': state_restored['params']}\n",
    "visc_entropy_model = TransportModel_entropy(features=features, output_activation=activation_dicts[activation])\n",
    "\n",
    "\n",
    "################################\n",
    "# Testing the different models #\n",
    "################################\n",
    "\n",
    "lambda_r = 12\n",
    "lambda_a = 6 \n",
    "alpha_vdw = helper_get_alpha(lambda_r, lambda_a)\n",
    "\n",
    "# defining the state points\n",
    "rho = np.array([0.1, 0.2, 0.3, 0.4, 0.5])\n",
    "T = 2. * np.ones_like(rho)\n",
    "alpha = alpha_vdw * np.ones_like(rho)\n",
    "Sres = fun_dic_feanneos['entropy_residual_fun'](alpha, rho, T)\n",
    "\n",
    "# visc model\n",
    "visc_result = np.exp(logvisc_model.apply(params_logvisc, alpha, rho, T))\n",
    "\n",
    "# visc residual model\n",
    "visc_res_result = np.exp(logvisc_res_model.apply(params_logvisc_res, lambda_r*np.ones_like(rho), rho, T))\n",
    "visc_dilute = viscosity_mie6_dilute(lambda_r, T)\n",
    "visc_res_result = visc_res_result * visc_dilute\n",
    "\n",
    "# visc entropy model\n",
    "visc_entropy_result = visc_entropy_model.apply(params_visc_entropy, alpha, Sres)\n",
    "visc_entropy_result = viscosity_scaling(rho, T, visc_entropy_result, unscale=True)\n",
    "\n",
    "print('Shear viscosity model: ', visc_result)\n",
    "print('Shear viscosity residual model: ', visc_res_result)\n",
    "print('Viscosity entropy model: ', visc_entropy_result)"
   ]
  },
  {
   "cell_type": "code",
   "execution_count": 9,
   "metadata": {},
   "outputs": [
    {
     "name": "stdout",
     "output_type": "stream",
     "text": [
      "Thermal conductivity model:  [1.05011208 1.3347346  1.64363532 2.10548117 2.80570599]\n",
      "Thermal conductivity residual model:  [1.05404151 1.37304217 1.6808723  2.15938115 2.83884181]\n",
      "Thermal conductivity entropy model:  [1.04035306 1.41270017 1.80823097 2.25433259 2.85097502]\n"
     ]
    }
   ],
   "source": [
    "##############################\n",
    "# Thermal conductivity model #\n",
    "##############################\n",
    "\n",
    "folder_tcond = 'tcond_models'\n",
    "hidden_layers = 3\n",
    "neurons = 30\n",
    "\n",
    "# Residual logtcond model\n",
    "prefix = 'logtcond-rho-Tinv-residual-penalty'\n",
    "seed = 42\n",
    "features = hidden_layers * [neurons]\n",
    "activation = 'linear'\n",
    "params_prefix = f'{prefix}-seed{seed}-params_'\n",
    "state_restored = checkpoints.restore_checkpoint(ckpt_dir=folder_tcond, target=None, prefix=params_prefix)\n",
    "params_logtcond_res = {'params': state_restored['params']}\n",
    "logtcond_res_model = TransportModelResidual_PVT_Tinv(features=features, output_activation=activation_dicts[activation])\n",
    "\n",
    "# logtcond model\n",
    "prefix = 'logtcond-rho-Tinv-penalty'\n",
    "seed = 1\n",
    "features = hidden_layers * [neurons]\n",
    "activation = 'linear'\n",
    "params_prefix = f'{prefix}-seed{seed}-params_'\n",
    "state_restored = checkpoints.restore_checkpoint(ckpt_dir=folder_tcond, target=None, prefix=params_prefix)\n",
    "params_logtcond = {'params': state_restored['params']}\n",
    "logtcond_model = TransportModel_PVT_Tinv(features=features, output_activation=activation_dicts[activation])\n",
    "\n",
    "# tcond residual entropy model\n",
    "prefix = 'tcond-entropy-penalty'\n",
    "seed = 1337\n",
    "features = hidden_layers * [neurons]\n",
    "activation = 'softplus'\n",
    "params_prefix = f'{prefix}-seed{seed}-params_'\n",
    "state_restored = checkpoints.restore_checkpoint(ckpt_dir=folder_tcond, target=None, prefix=params_prefix)\n",
    "params_tcond_entropy = {'params': state_restored['params']}\n",
    "tcond_entropy_model = TransportModel_entropy(features=features, output_activation=activation_dicts[activation])\n",
    "\n",
    "################################\n",
    "# Testing the different models #\n",
    "################################\n",
    "\n",
    "lambda_r = 12\n",
    "lambda_a = 6 \n",
    "alpha_vdw = helper_get_alpha(lambda_r, lambda_a)\n",
    "\n",
    "# defining the state points\n",
    "rho = np.array([0.1, 0.2, 0.3, 0.4, 0.5])\n",
    "T = 2. * np.ones_like(rho)\n",
    "alpha = alpha_vdw * np.ones_like(rho)\n",
    "Sres = fun_dic_feanneos['entropy_residual_fun'](alpha, rho, T)\n",
    "\n",
    "# tcond model\n",
    "tcond_result = np.exp(logtcond_model.apply(params_logtcond, alpha, rho, T))\n",
    "\n",
    "# tcond residual model\n",
    "tcond_res_result = np.exp(logtcond_res_model.apply(params_logtcond_res, lambda_r*np.ones_like(rho), rho, T))\n",
    "tcond_dilute = thermal_conductivity_mie6_dilute(lambda_r, T)\n",
    "tcond_res_result = tcond_res_result * tcond_dilute\n",
    "\n",
    "# tcond entropy model\n",
    "tcond_entropy_result = tcond_entropy_model.apply(params_tcond_entropy, alpha, Sres)\n",
    "tcond_entropy_result = thermal_conductivity_scaling(rho, T, tcond_entropy_result, unscale=True)\n",
    "\n",
    "print('Thermal conductivity model: ', tcond_result)\n",
    "print('Thermal conductivity residual model: ', tcond_res_result)\n",
    "print('Thermal conductivity entropy model: ', tcond_entropy_result)\n",
    "      "
   ]
  },
  {
   "cell_type": "code",
   "execution_count": null,
   "metadata": {},
   "outputs": [],
   "source": []
  }
 ],
 "metadata": {
  "kernelspec": {
   "display_name": "jax",
   "language": "python",
   "name": "python3"
  },
  "language_info": {
   "codemirror_mode": {
    "name": "ipython",
    "version": 3
   },
   "file_extension": ".py",
   "mimetype": "text/x-python",
   "name": "python",
   "nbconvert_exporter": "python",
   "pygments_lexer": "ipython3",
   "version": "3.8.16"
  }
 },
 "nbformat": 4,
 "nbformat_minor": 2
}
