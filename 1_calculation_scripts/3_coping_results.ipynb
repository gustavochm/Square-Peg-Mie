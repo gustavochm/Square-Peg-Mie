{
 "cells": [
  {
   "cell_type": "code",
   "execution_count": 1,
   "metadata": {},
   "outputs": [],
   "source": [
    "import pickle\n",
    "import os\n",
    "import sys\n",
    "import shutil"
   ]
  },
  {
   "cell_type": "code",
   "execution_count": 2,
   "metadata": {},
   "outputs": [],
   "source": [
    "folder_list = ['1_1_argon', '1_2_xenon', '1_3_krypton', '1_4_methane', '1_6_nitrogen', '1_7_co', '1_8_cf4']\n",
    "exp_data_file = {'1_1_argon': 'argon.xlsx', '1_2_xenon': 'xenon.xlsx', '1_3_krypton': 'krypton.xlsx', '1_4_methane': 'methane.xlsx', '1_6_nitrogen': 'nitrogen.xlsx', '1_7_co': 'carbon_monoxide.xlsx', '1_8_cf4': 'cf4.xlsx'}\n",
    "for folder in folder_list:\n",
    "    results_folder  = os.path.join(folder, 'results')\n",
    "\n",
    "    destination_path = os.path.join('../computed_files', folder)\n",
    "\n",
    "    shutil.copytree(results_folder, destination_path, dirs_exist_ok=True)\n",
    "\n",
    "    exp_data_path = os.path.join(folder, exp_data_file[folder])\n",
    "    destination_exp_data_path = os.path.join(destination_path, exp_data_file[folder])\n",
    "    shutil.copy(exp_data_path, destination_exp_data_path)\n"
   ]
  },
  {
   "cell_type": "code",
   "execution_count": 3,
   "metadata": {},
   "outputs": [
    {
     "data": {
      "text/plain": [
       "('1_8_cf4/results', '../computed_files/1_8_cf4')"
      ]
     },
     "execution_count": 3,
     "metadata": {},
     "output_type": "execute_result"
    }
   ],
   "source": [
    "results_folder,destination_path"
   ]
  },
  {
   "cell_type": "code",
   "execution_count": null,
   "metadata": {},
   "outputs": [],
   "source": []
  }
 ],
 "metadata": {
  "kernelspec": {
   "display_name": "jax",
   "language": "python",
   "name": "python3"
  },
  "language_info": {
   "codemirror_mode": {
    "name": "ipython",
    "version": 3
   },
   "file_extension": ".py",
   "mimetype": "text/x-python",
   "name": "python",
   "nbconvert_exporter": "python",
   "pygments_lexer": "ipython3",
   "version": "3.8.16"
  }
 },
 "nbformat": 4,
 "nbformat_minor": 2
}
