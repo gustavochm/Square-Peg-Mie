{
 "cells": [
  {
   "cell_type": "code",
   "execution_count": 1,
   "metadata": {},
   "outputs": [],
   "source": [
    "import os\n",
    "import sys\n",
    "import numpy as np\n",
    "import pandas as pd\n",
    "from scipy.interpolate import interp1d\n",
    "import matplotlib.pyplot as plt\n",
    "\n",
    "from jax import numpy as jnp\n",
    "from jax.config import config\n",
    "from flax.training import checkpoints\n",
    "\n",
    "import nest_asyncio\n",
    "nest_asyncio.apply()\n",
    "\n",
    "PRECISSION = 'float64'\n",
    "if PRECISSION == 'float64':\n",
    "    config.update(\"jax_enable_x64\", True)\n",
    "    type_np = np.float64\n",
    "    type_jax = jnp.float64\n",
    "else:\n",
    "    config.update(\"jax_enable_x32\", True)\n",
    "    type_np = np.float32\n",
    "    type_jax = jnp.float32\n",
    "\n",
    "sys.path.append(\"../\")\n",
    "from python_helpers.feanneos import HelmholtzModel\n",
    "from python_helpers.feanneos import helper_jitted_funs\n",
    "from python_helpers import helper_get_alpha\n",
    "\n",
    "from python_helpers.data_figures import data_phase_equilibria_fluid_lr\n",
    "from python_helpers.data_figures import data_critical_point_feanneos"
   ]
  },
  {
   "cell_type": "code",
   "execution_count": 2,
   "metadata": {},
   "outputs": [],
   "source": [
    "##########################\n",
    "# Folder to save results #\n",
    "##########################\n",
    "\n",
    "folder_to_save = '../computed_files'\n",
    "os.makedirs(folder_to_save, exist_ok=True)\n",
    "\n",
    "plot_figure = False # already checked that it converged nicely\n",
    "save_files = True"
   ]
  },
  {
   "cell_type": "code",
   "execution_count": 3,
   "metadata": {},
   "outputs": [],
   "source": [
    "######################\n",
    "# Loading FE-ANN EoS #\n",
    "######################\n",
    "\n",
    "ckpt_folder = '../ann_models/feann_eos'\n",
    "\n",
    "prefix_params = 'FE-ANN-EoS-params_'\n",
    "\n",
    "###\n",
    "Tscale = 'Tinv'\n",
    "seed = 1\n",
    "factor = 0.05\n",
    "EPOCHS = 20000\n",
    "traind_model_folder = f'models_{Tscale}_factor{factor:.2f}_seed{seed}'\n",
    "ckpt_folder_model = os.path.join(ckpt_folder, traind_model_folder)\n",
    "ckpt_Tinv = checkpoints.restore_checkpoint(ckpt_dir=ckpt_folder_model, target=None, prefix=prefix_params)\n",
    "helmholtz_features = list(ckpt_Tinv['features'].values())\n",
    "helmholtz_model = HelmholtzModel(features=helmholtz_features)\n",
    "helmholtz_params = {'params': ckpt_Tinv['params']}\n",
    "fun_dic = helper_jitted_funs(helmholtz_model, helmholtz_params)"
   ]
  },
  {
   "cell_type": "code",
   "execution_count": 4,
   "metadata": {},
   "outputs": [
    {
     "name": "stderr",
     "output_type": "stream",
     "text": [
      "2025-05-13 09:17:43.072663: E external/org_tensorflow/tensorflow/compiler/xla/python/pjit.cc:606] fastpath_data is none\n"
     ]
    },
    {
     "data": {
      "text/html": [
       "<div>\n",
       "<style scoped>\n",
       "    .dataframe tbody tr th:only-of-type {\n",
       "        vertical-align: middle;\n",
       "    }\n",
       "\n",
       "    .dataframe tbody tr th {\n",
       "        vertical-align: top;\n",
       "    }\n",
       "\n",
       "    .dataframe thead th {\n",
       "        text-align: right;\n",
       "    }\n",
       "</style>\n",
       "<table border=\"1\" class=\"dataframe\">\n",
       "  <thead>\n",
       "    <tr style=\"text-align: right;\">\n",
       "      <th></th>\n",
       "      <th>lr</th>\n",
       "      <th>la</th>\n",
       "      <th>alpha</th>\n",
       "      <th>Tcad</th>\n",
       "      <th>rhocad</th>\n",
       "      <th>Pcad</th>\n",
       "    </tr>\n",
       "  </thead>\n",
       "  <tbody>\n",
       "    <tr>\n",
       "      <th>0</th>\n",
       "      <td>7.000000</td>\n",
       "      <td>6.0</td>\n",
       "      <td>1.470949</td>\n",
       "      <td>2.062771</td>\n",
       "      <td>0.314607</td>\n",
       "      <td>0.219178</td>\n",
       "    </tr>\n",
       "    <tr>\n",
       "      <th>1</th>\n",
       "      <td>7.333333</td>\n",
       "      <td>6.0</td>\n",
       "      <td>1.391662</td>\n",
       "      <td>1.970107</td>\n",
       "      <td>0.315464</td>\n",
       "      <td>0.210149</td>\n",
       "    </tr>\n",
       "    <tr>\n",
       "      <th>2</th>\n",
       "      <td>7.666667</td>\n",
       "      <td>6.0</td>\n",
       "      <td>1.323481</td>\n",
       "      <td>1.888080</td>\n",
       "      <td>0.316516</td>\n",
       "      <td>0.202289</td>\n",
       "    </tr>\n",
       "    <tr>\n",
       "      <th>3</th>\n",
       "      <td>8.000000</td>\n",
       "      <td>6.0</td>\n",
       "      <td>1.264198</td>\n",
       "      <td>1.815308</td>\n",
       "      <td>0.317627</td>\n",
       "      <td>0.195407</td>\n",
       "    </tr>\n",
       "    <tr>\n",
       "      <th>4</th>\n",
       "      <td>8.333333</td>\n",
       "      <td>6.0</td>\n",
       "      <td>1.212155</td>\n",
       "      <td>1.750517</td>\n",
       "      <td>0.318735</td>\n",
       "      <td>0.189343</td>\n",
       "    </tr>\n",
       "  </tbody>\n",
       "</table>\n",
       "</div>"
      ],
      "text/plain": [
       "         lr   la     alpha      Tcad    rhocad      Pcad\n",
       "0  7.000000  6.0  1.470949  2.062771  0.314607  0.219178\n",
       "1  7.333333  6.0  1.391662  1.970107  0.315464  0.210149\n",
       "2  7.666667  6.0  1.323481  1.888080  0.316516  0.202289\n",
       "3  8.000000  6.0  1.264198  1.815308  0.317627  0.195407\n",
       "4  8.333333  6.0  1.212155  1.750517  0.318735  0.189343"
      ]
     },
     "execution_count": 4,
     "metadata": {},
     "output_type": "execute_result"
    }
   ],
   "source": [
    "lr_min = 7.\n",
    "lr_max = 40.\n",
    "lambda_a = 6.\n",
    "inc0 = [0.3, 2.0]\n",
    "n_crit = 100\n",
    "\n",
    "# FE-ANN EoS\n",
    "df_crit_feann = data_critical_point_feanneos(fun_dic, lr_min, lr_max, n_crit, lambda_a=lambda_a, inc0=inc0)\n",
    "interp1d_crit = interp1d(df_crit_feann['lr'], df_crit_feann[['rhocad','Tcad']].T, kind='cubic')\n",
    "df_crit_feann.head()"
   ]
  },
  {
   "cell_type": "code",
   "execution_count": 5,
   "metadata": {},
   "outputs": [
    {
     "name": "stderr",
     "output_type": "stream",
     "text": [
      "2025-05-13 09:17:44.377285: E external/org_tensorflow/tensorflow/compiler/xla/python/pjit.cc:606] fastpath_data is none\n",
      "2025-05-13 09:17:44.482964: E external/org_tensorflow/tensorflow/compiler/xla/python/pjit.cc:606] fastpath_data is none\n",
      "2025-05-13 09:17:44.483907: E external/org_tensorflow/tensorflow/compiler/xla/python/pjit.cc:606] fastpath_data is none\n",
      "2025-05-13 09:17:44.507242: E external/org_tensorflow/tensorflow/compiler/xla/python/pjit.cc:606] fastpath_data is none\n"
     ]
    }
   ],
   "source": [
    "n = 100\n",
    "lr_array = np.linspace(lr_min, lr_max, n)\n",
    "rho_max_sle = 1.2\n",
    "n_vle = 100\n",
    "df_info_list = []\n",
    "df_vle_list = []\n",
    "\n",
    "for i in range(n):\n",
    "    lambda_r = lr_array[i]\n",
    "    initial_crit_point = interp1d_crit(lambda_r)\n",
    "    phase_equilibria_lr = data_phase_equilibria_fluid_lr(fun_dic, lambda_r=lambda_r, initial_crit_point=initial_crit_point, rho_max_sle=rho_max_sle, n_vle=n_vle)\n",
    "    df_info = phase_equilibria_lr['info']\n",
    "    df_vle = phase_equilibria_lr['vle']\n",
    "    df_vle['lambda_r'] = 1. * lambda_r\n",
    "    df_vle['lambda_a'] = 6.\n",
    "    df_vle['alpha'] = helper_get_alpha(df_vle['lambda_r'], df_vle['lambda_a'])\n",
    "    df_vle['Tr_vle_model'] = df_vle['T_vle_model'].to_numpy() / df_info['Tcad_model'].to_numpy()\n",
    "    df_info_list.append(df_info)\n",
    "    df_vle_list.append(df_vle)\n",
    "    if plot_figure:\n",
    "        fig = plt.figure(figsize=(10, 3))\n",
    "        ax1 = fig.add_subplot(131)\n",
    "        ax2 = fig.add_subplot(132)\n",
    "        ax3 = fig.add_subplot(133)\n",
    "\n",
    "        ax1.plot(df_vle['rhov_vle_model'], df_vle['T_vle_model'], color='k')\n",
    "        ax1.plot(df_vle['rhol_vle_model'], df_vle['T_vle_model'], color='k')\n",
    "\n",
    "        ax2.semilogy(1/df_vle['T_vle_model'], df_vle['P_vle_model'], color='k')\n",
    "\n",
    "        ax3.plot(df_vle['T_vle_model'], df_vle['Hvap_vle_model'], color='k')\n",
    "\n",
    "        fig.suptitle(f'lambda_r = {lambda_r:.2f}')\n",
    "\n",
    "    \n"
   ]
  },
  {
   "cell_type": "code",
   "execution_count": 6,
   "metadata": {},
   "outputs": [
    {
     "name": "stdout",
     "output_type": "stream",
     "text": [
      "File saved in ../computed_files/phase_equilibria_fluid.xlsx\n"
     ]
    }
   ],
   "source": [
    "df_info_all = pd.concat(df_info_list).reset_index(drop=True)\n",
    "df_vle_all = pd.concat(df_vle_list).reset_index(drop=True)\n",
    "if save_files:\n",
    "    filename = 'phase_equilibria_fluid.xlsx'\n",
    "    file_to_save = os.path.join(folder_to_save, filename)\n",
    "    writer = pd.ExcelWriter(file_to_save, engine='xlsxwriter')\n",
    "    df_info_all.to_excel(writer, sheet_name='info', index=False)\n",
    "    df_vle_all.to_excel(writer, sheet_name='vle', index=False)\n",
    "    writer.close()\n",
    "    print(f'File saved in {file_to_save}')"
   ]
  },
  {
   "cell_type": "code",
   "execution_count": null,
   "metadata": {},
   "outputs": [],
   "source": []
  }
 ],
 "metadata": {
  "kernelspec": {
   "display_name": "jax",
   "language": "python",
   "name": "python3"
  },
  "language_info": {
   "codemirror_mode": {
    "name": "ipython",
    "version": 3
   },
   "file_extension": ".py",
   "mimetype": "text/x-python",
   "name": "python",
   "nbconvert_exporter": "python",
   "pygments_lexer": "ipython3",
   "version": "3.8.16"
  }
 },
 "nbformat": 4,
 "nbformat_minor": 2
}
